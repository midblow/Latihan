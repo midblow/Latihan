{
 "cells": [
  {
   "cell_type": "code",
   "execution_count": 7,
   "metadata": {},
   "outputs": [
    {
     "name": "stdout",
     "output_type": "stream",
     "text": [
      "Normalized C1: [0.78651685 0.56179775 0.92134831 1.         0.84269663 0.69662921]\n",
      "Normalized C2: [0.81578947 1.         0.69736842 0.89473684 0.94736842 0.77631579]\n",
      "Normalized C3: [0.97674419 0.95348837 0.90697674 0.84883721 1.         0.87209302]\n",
      "Normalized C4: [0.79069767 0.88372093 0.8255814  1.         0.86046512 0.97674419]\n",
      "Final Scores: [0.84327355 0.8233734  0.84098476 0.93063035 0.91520086 0.79241264]\n",
      "Kandidat dengan skor tertinggi: Dian Pangeswari\n"
     ]
    }
   ],
   "source": [
    "import numpy as np\n",
    "\n",
    "Kandidat = np.array([\"Anto Kurnia Saputra\", \"Budi Nugroho\", \"Cika Dania Putri\", \n",
    "                 \"Dian Pangeswari\", \"Kartika Kusumatuti\", \"Heru Sasongko\"])\n",
    "\n",
    "Kriteria_C1 = np.array([70, 50, 82, 89, 75, 62])\n",
    "Kriteria_C2 = np.array([62, 76, 53, 68, 72, 59])\n",
    "Kriteria_C3 = np.array([84, 82, 78, 73, 86, 75])\n",
    "Kriteria_C4 = np.array([68, 76, 71, 86, 74, 84])\n",
    "\n",
    "bobot = np.array([0.35, 0.30, 0.25, 0.10])\n",
    "\n",
    "max_c1 = np.max(Kriteria_C1)\n",
    "max_c2 = np.max(Kriteria_C2)\n",
    "max_c3 = np.max(Kriteria_C3)\n",
    "max_c4 = np.max(Kriteria_C4)\n",
    "\n",
    "norm_c1 = Kriteria_C1 / max_c1\n",
    "norm_c2 = Kriteria_C2 / max_c2\n",
    "norm_c3 = Kriteria_C3 / max_c3\n",
    "norm_c4 = Kriteria_C4 / max_c4\n",
    "\n",
    "final_scores = norm_c1 * bobot[0] + norm_c2 * bobot[1] + norm_c3 * bobot[2] + norm_c4 * bobot[3]\n",
    "\n",
    "print(\"Normalisasi C1:\", norm_c1)\n",
    "print(\"Normalisasi C2:\", norm_c2)\n",
    "print(\"Normalisasi C3:\", norm_c3)\n",
    "print(\"Normalisasi C4:\", norm_c4)\n",
    "print(\"Final Scores:\", final_scores)\n",
    "print(\"Kandidat dengan skor tertinggi:\", Kandidat[np.argmax(final_scores)])\n"
   ]
  }
 ],
 "metadata": {
  "kernelspec": {
   "display_name": "Python 3",
   "language": "python",
   "name": "python3"
  },
  "language_info": {
   "codemirror_mode": {
    "name": "ipython",
    "version": 3
   },
   "file_extension": ".py",
   "mimetype": "text/x-python",
   "name": "python",
   "nbconvert_exporter": "python",
   "pygments_lexer": "ipython3",
   "version": "3.11.7"
  }
 },
 "nbformat": 4,
 "nbformat_minor": 2
}
